{
  "nbformat": 4,
  "nbformat_minor": 0,
  "metadata": {
    "colab": {
      "provenance": [],
      "authorship_tag": "ABX9TyNb38N0SuUNl9OeEYl/MGnk",
      "include_colab_link": true
    },
    "kernelspec": {
      "name": "python3",
      "display_name": "Python 3"
    },
    "language_info": {
      "name": "python"
    }
  },
  "cells": [
    {
      "cell_type": "markdown",
      "metadata": {
        "id": "view-in-github",
        "colab_type": "text"
      },
      "source": [
        "<a href=\"https://colab.research.google.com/github/SubashriR-DS/Machine-Leaning/blob/main/Player_Game.ipynb\" target=\"_parent\"><img src=\"https://colab.research.google.com/assets/colab-badge.svg\" alt=\"Open In Colab\"/></a>"
      ]
    },
    {
      "cell_type": "code",
      "execution_count": null,
      "metadata": {
        "id": "I5WUKXP5mAuO"
      },
      "outputs": [],
      "source": [
        "myexample =[1,2,3,4,5,6,7,8]"
      ]
    },
    {
      "cell_type": "code",
      "source": [
        "#How the random list is working\n",
        "from random import shuffle\n",
        "shuffle(myexample)\n",
        "myexample\n"
      ],
      "metadata": {
        "colab": {
          "base_uri": "https://localhost:8080/"
        },
        "id": "LtN7jfAqmujP",
        "outputId": "856e2d7a-e623-47b9-8be0-7336c39f7614"
      },
      "execution_count": null,
      "outputs": [
        {
          "output_type": "execute_result",
          "data": {
            "text/plain": [
              "[4, 2, 5, 3, 1, 7, 8, 6]"
            ]
          },
          "metadata": {},
          "execution_count": 3
        }
      ]
    },
    {
      "cell_type": "code",
      "source": [
        "#creating the shuffle list using function to store the ariables\n",
        "\n",
        "def shuffle_list(mylist):\n",
        "  shuffle(mylist)\n",
        "  return mylist\n"
      ],
      "metadata": {
        "id": "bfzd3PxAm1sn"
      },
      "execution_count": null,
      "outputs": []
    },
    {
      "cell_type": "code",
      "source": [
        "\n",
        "# storing the variables\n",
        "result = shuffle_list(myexample)\n",
        "result"
      ],
      "metadata": {
        "id": "jVDBF5g5nH2Y",
        "colab": {
          "base_uri": "https://localhost:8080/"
        },
        "outputId": "cc6fea5d-0992-450b-ee25-f6cd1fe90b54"
      },
      "execution_count": null,
      "outputs": [
        {
          "output_type": "execute_result",
          "data": {
            "text/plain": [
              "[1, 6, 4, 7, 8, 3, 5, 2]"
            ]
          },
          "metadata": {},
          "execution_count": 6
        }
      ]
    },
    {
      "cell_type": "code",
      "source": [
        "#creating the name mylist has the 3 cpus monte game using shuffle alue\n",
        "mylist =[' ','o',' ']\n",
        "shuffle_list(mylist)"
      ],
      "metadata": {
        "colab": {
          "base_uri": "https://localhost:8080/"
        },
        "id": "gw7dHPHf1zCl",
        "outputId": "58991b58-4a67-4e36-8434-5b416259b291"
      },
      "execution_count": null,
      "outputs": [
        {
          "output_type": "execute_result",
          "data": {
            "text/plain": [
              "['o', ' ', ' ']"
            ]
          },
          "metadata": {},
          "execution_count": 7
        }
      ]
    },
    {
      "cell_type": "code",
      "source": [
        "# creating thee player guess function\n",
        "\n",
        "def player_guess():\n",
        "  guess =' '\n",
        "  while guess not in [0,1,2]:\n",
        "    guess =int (input('pick a number : 0,1,2 -'))\n",
        "  return guess\n",
        "\n",
        "\n"
      ],
      "metadata": {
        "id": "XKuPhN7k2W2B"
      },
      "execution_count": null,
      "outputs": []
    },
    {
      "cell_type": "code",
      "source": [
        "myindex =player_guess()"
      ],
      "metadata": {
        "colab": {
          "base_uri": "https://localhost:8080/"
        },
        "id": "qTHa52vM3AWe",
        "outputId": "b2eff2b6-41e0-4690-ee6b-7f28a64c9c12"
      },
      "execution_count": null,
      "outputs": [
        {
          "name": "stdout",
          "output_type": "stream",
          "text": [
            "pick a number : 0,1,2 -9\n",
            "pick a number : 0,1,2 -8\n",
            "pick a number : 0,1,2 -3\n",
            "pick a number : 0,1,2 -2\n"
          ]
        }
      ]
    },
    {
      "cell_type": "code",
      "source": [
        "#combine both shuufle and player guess\n",
        "\n",
        "def check_guess(mylist,guess):\n",
        "  if mylist[guess]== 'o':\n",
        "    print('correct!')\n",
        "  else:\n",
        "    print('wrong guess')\n",
        "    print(mylist)\n"
      ],
      "metadata": {
        "id": "pu50_Ghx3FPY"
      },
      "execution_count": null,
      "outputs": []
    },
    {
      "cell_type": "code",
      "source": [
        "# function calling\n",
        "\n",
        "#initial list  ---assignning the ball\n",
        "mylist =[ ' ','o',' ']\n",
        "\n",
        "# shuffle lsit --- what we assign just shuffle\n",
        "mixed_up_list = shuffle_list(mylist)\n",
        "\n",
        "#user_guess ---take input\n",
        "guess =player_guess()\n",
        "\n",
        "# check_guess ---check the gueesss position\n",
        "check_guess(mixed_up_list,guess)\n",
        "\n",
        "\n",
        "\n"
      ],
      "metadata": {
        "colab": {
          "base_uri": "https://localhost:8080/"
        },
        "id": "-EddLRAC3vyj",
        "outputId": "d1b1cdd1-639c-4f8a-fa56-db91c846e61b"
      },
      "execution_count": null,
      "outputs": [
        {
          "output_type": "stream",
          "name": "stdout",
          "text": [
            "pick a number : 0,1,2 -0\n",
            "correct!\n"
          ]
        }
      ]
    },
    {
      "cell_type": "code",
      "source": [],
      "metadata": {
        "id": "8JUkxCuM59wI"
      },
      "execution_count": null,
      "outputs": []
    }
  ]
}